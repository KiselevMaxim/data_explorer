{
 "cells": [
  {
   "cell_type": "code",
   "execution_count": 146,
   "metadata": {
    "collapsed": false
   },
   "outputs": [],
   "source": [
    "import pandas as pd\n",
    "star_wars = pd.read_csv(\"star_wars.csv\", encoding=\"ISO-8859-1\")"
   ]
  },
  {
   "cell_type": "markdown",
   "metadata": {},
   "source": [
    "Remove rows where \"RespondentID\" is not a number"
   ]
  },
  {
   "cell_type": "code",
   "execution_count": 147,
   "metadata": {
    "collapsed": true
   },
   "outputs": [],
   "source": [
    "star_wars = star_wars[star_wars[\"RespondentID\"].notnull()]"
   ]
  },
  {
   "cell_type": "markdown",
   "metadata": {},
   "source": [
    "Convert Yes/No columns to boolean: \n",
    "* `Have you seen any of the 6 films in the Star Wars franchise?` \n",
    "* `Do you consider yourself to be a fan of the Star Wars film franchise?`"
   ]
  },
  {
   "cell_type": "code",
   "execution_count": 148,
   "metadata": {
    "collapsed": false,
    "scrolled": true
   },
   "outputs": [],
   "source": [
    "yes_no = {\"Yes\": True, \"No\": False}\n",
    "star_wars[\"Have you seen any of the 6 films in the Star Wars franchise?\"] = star_wars[\"Have you seen any of the 6 films in the Star Wars franchise?\"].map(yes_no)\n",
    "star_wars[\"Do you consider yourself to be a fan of the Star Wars film franchise?\"] = star_wars[\"Do you consider yourself to be a fan of the Star Wars film franchise?\"].map(yes_no)"
   ]
  },
  {
   "cell_type": "markdown",
   "metadata": {},
   "source": [
    "Convert \"Have you seen movie...\" columns to True/False"
   ]
  },
  {
   "cell_type": "code",
   "execution_count": 149,
   "metadata": {
    "collapsed": false
   },
   "outputs": [],
   "source": [
    "import numpy as np\n",
    "\n",
    "movie_mapping = {\n",
    "    \"Star Wars: Episode I  The Phantom Menace\": True,\n",
    "    np.nan: False,\n",
    "    \"Star Wars: Episode II  Attack of the Clones\": True,\n",
    "    \"Star Wars: Episode III  Revenge of the Sith\": True,\n",
    "    \"Star Wars: Episode IV  A New Hope\": True,\n",
    "    \"Star Wars: Episode V The Empire Strikes Back\": True,\n",
    "    \"Star Wars: Episode VI Return of the Jedi\": True\n",
    "}\n",
    "\n",
    "for col in star_wars.columns[3:9]:\n",
    "    star_wars[col] = star_wars[col].map(movie_mapping)"
   ]
  },
  {
   "cell_type": "markdown",
   "metadata": {},
   "source": [
    "Rename columns for seen episodes"
   ]
  },
  {
   "cell_type": "code",
   "execution_count": 150,
   "metadata": {
    "collapsed": true
   },
   "outputs": [],
   "source": [
    "star_wars = star_wars.rename(columns={\n",
    "        \"Which of the following Star Wars films have you seen? Please select all that apply.\": \"seen_1\",\n",
    "        \"Unnamed: 4\": \"seen_2\",\n",
    "        \"Unnamed: 5\": \"seen_3\",\n",
    "        \"Unnamed: 6\": \"seen_4\",\n",
    "        \"Unnamed: 7\": \"seen_5\",\n",
    "        \"Unnamed: 8\": \"seen_6\"\n",
    "})"
   ]
  },
  {
   "cell_type": "markdown",
   "metadata": {},
   "source": [
    "Clean Up Movie Ranking Columns"
   ]
  },
  {
   "cell_type": "code",
   "execution_count": 151,
   "metadata": {
    "collapsed": false
   },
   "outputs": [],
   "source": [
    "star_wars[star_wars.columns[9:15]] = star_wars[star_wars.columns[9:15]].astype(float)"
   ]
  },
  {
   "cell_type": "markdown",
   "metadata": {},
   "source": [
    "Rename ranking columns"
   ]
  },
  {
   "cell_type": "code",
   "execution_count": 152,
   "metadata": {
    "collapsed": false
   },
   "outputs": [],
   "source": [
    "star_wars = star_wars.rename(columns={\n",
    "        \"Please rank the Star Wars films in order of preference with 1 being your favorite film in the franchise and 6 being your least favorite film.\": \"ranking_1\",\n",
    "        \"Unnamed: 10\": \"ranking_2\",\n",
    "        \"Unnamed: 11\": \"ranking_3\",\n",
    "        \"Unnamed: 12\": \"ranking_4\",\n",
    "        \"Unnamed: 13\": \"ranking_5\",\n",
    "        \"Unnamed: 14\": \"ranking_6\"\n",
    "})"
   ]
  },
  {
   "cell_type": "markdown",
   "metadata": {},
   "source": [
    "## The Highest Ranked Movie"
   ]
  },
  {
   "cell_type": "code",
   "execution_count": 153,
   "metadata": {
    "collapsed": false
   },
   "outputs": [
    {
     "data": {
      "text/plain": [
       "<Container object of 6 artists>"
      ]
     },
     "execution_count": 153,
     "metadata": {},
     "output_type": "execute_result"
    },
    {
     "data": {
      "image/png": "[encoded data removed]",
      "text/plain": [
       "<matplotlib.figure.Figure at 0x7f1bd5801208>"
      ]
     },
     "metadata": {},
     "output_type": "display_data"
    }
   ],
   "source": [
    "import matplotlib.pyplot as plt\n",
    "%matplotlib inline\n",
    "\n",
    "plt.bar(range(6), star_wars[star_wars.columns[9:15]].mean())"
   ]
  },
  {
   "cell_type": "markdown",
   "metadata": {},
   "source": [
    "Lower values of bars are better ranking episodes.  \n",
    "So the 5-th movie \"Star Wars: Episode V The Empire Strikes Back\" is the most favourite."
   ]
  },
  {
   "cell_type": "markdown",
   "metadata": {},
   "source": [
    "## The Most Seen Movie"
   ]
  },
  {
   "cell_type": "code",
   "execution_count": 154,
   "metadata": {
    "collapsed": false
   },
   "outputs": [
    {
     "data": {
      "text/plain": [
       "<Container object of 6 artists>"
      ]
     },
     "execution_count": 154,
     "metadata": {},
     "output_type": "execute_result"
    },
    {
     "data": {
      "image/png": "[encoded data removed]",
      "text/plain": [
       "<matplotlib.figure.Figure at 0x7f1bd587ec50>"
      ]
     },
     "metadata": {},
     "output_type": "display_data"
    }
   ],
   "source": [
    "plt.bar(range(6), star_wars[star_wars.columns[3:9]].sum(), color='green')"
   ]
  },
  {
   "cell_type": "markdown",
   "metadata": {},
   "source": [
    "Higher values of bars are most viewed episodes.\n",
    "So the 5-th movie \"Star Wars: Episode V The Empire Strikes Back\" is the most viewed.  \n",
    "It is strong correlation with most favourite movie."
   ]
  },
  {
   "cell_type": "markdown",
   "metadata": {},
   "source": [
    "# Gender Segments"
   ]
  },
  {
   "cell_type": "code",
   "execution_count": 155,
   "metadata": {
    "collapsed": false
   },
   "outputs": [],
   "source": [
    "males = star_wars[star_wars[\"Gender\"] == \"Male\"]\n",
    "females = star_wars[star_wars[\"Gender\"] == \"Female\"]"
   ]
  },
  {
   "cell_type": "markdown",
   "metadata": {},
   "source": [
    "## The Highest Ranked Movie by Males and Females"
   ]
  },
  {
   "cell_type": "code",
   "execution_count": 156,
   "metadata": {
    "collapsed": false
   },
   "outputs": [],
   "source": [
    "# Get some common plot configuration\n",
    "episodes = ('Episode I', 'Episode II', 'Episode III', 'Episode IV', 'Episode V', 'Episode VI')\n",
    "width = 0.35\n",
    "def cute_labels(ax):\n",
    "    ax.set_xticks(np.arange(6) + width)\n",
    "    ax.set_xticklabels(episodes)\n",
    "    for label in ax.xaxis.get_ticklabels():\n",
    "        label.set_color('Maroon')\n",
    "        label.set_rotation(25)\n",
    "        label.set_fontsize(10)\n",
    "    for line in ax.yaxis.get_ticklines():    \n",
    "        line.set_markersize(3)\n",
    "        line.set_markeredgewidth(1)"
   ]
  },
  {
   "cell_type": "code",
   "execution_count": 157,
   "metadata": {
    "collapsed": false
   },
   "outputs": [
    {
     "data": {
      "image/png": "[encoded data removed]",
      "text/plain": [
       "<matplotlib.figure.Figure at 0x7f1bd5ada1d0>"
      ]
     },
     "metadata": {},
     "output_type": "display_data"
    }
   ],
   "source": [
    "fig = plt.figure()\n",
    "ax = fig.add_subplot(111)\n",
    "rects1 = ax.bar(np.arange(6), males[males.columns[9:15]].mean(), width,  color = 'blue')\n",
    "rects2 = ax.bar(np.arange(6) + width, females[females.columns[9:15]].mean(), width, color = 'red')\n",
    "cute_labels(ax)    \n",
    "\n",
    "plt.legend((rects1[0], rects2[0]), ('Male', 'Female'), loc='upper right')\n",
    "plt.show()"
   ]
  },
  {
   "cell_type": "markdown",
   "metadata": {},
   "source": [
    "Lower values of bars are better ranking episodes.  \n",
    "The 5-th movie \"Star Wars: Episode V The Empire Strikes Back\" is the most favourite for both male and female groups."
   ]
  },
  {
   "cell_type": "markdown",
   "metadata": {},
   "source": [
    "## The Most Seen Movie by Males and Females"
   ]
  },
  {
   "cell_type": "code",
   "execution_count": 158,
   "metadata": {
    "collapsed": false
   },
   "outputs": [
    {
     "data": {
      "image/png": "[encoded data removed]",
      "text/plain": [
       "<matplotlib.figure.Figure at 0x7f1bd584bba8>"
      ]
     },
     "metadata": {},
     "output_type": "display_data"
    }
   ],
   "source": [
    "fig = plt.figure()\n",
    "ax = fig.add_subplot(111)\n",
    "rects1 = ax.bar(np.arange(6), males[males.columns[3:9]].sum(), width,  color = 'green')\n",
    "rects2 = ax.bar(np.arange(6) + width, females[females.columns[3:9]].sum(), width, color = 'orange')\n",
    "cute_labels(ax)\n",
    "plt.legend((rects1[0], rects2[0]), ('Male', 'Female'), loc='lower right')\n",
    "plt.show()"
   ]
  },
  {
   "cell_type": "markdown",
   "metadata": {},
   "source": [
    "Higher values of bars are most viewed episodes.  \n",
    "The 5-th movie \"Star Wars: Episode V The Empire Strikes Back\" is the most viewed by males and females.  \n",
    "**Interesting thing:** Episodes I, II, III, IV are lower ranked by male, but it had seen almost same frequent like more higher ranked Episodes V, VI"
   ]
  },
  {
   "cell_type": "markdown",
   "metadata": {},
   "source": [
    "# Star Wars Fan Segments"
   ]
  },
  {
   "cell_type": "code",
   "execution_count": 159,
   "metadata": {
    "collapsed": false
   },
   "outputs": [],
   "source": [
    "fld=\"Do you consider yourself to be a fan of the Star Wars film franchise?\"\n",
    "fan    = star_wars[star_wars[fld] == True]\n",
    "notfan = star_wars[star_wars[fld] == False]"
   ]
  },
  {
   "cell_type": "markdown",
   "metadata": {},
   "source": [
    "## The Highest Ranked Movie by Fans and not Fans"
   ]
  },
  {
   "cell_type": "code",
   "execution_count": 160,
   "metadata": {
    "collapsed": false
   },
   "outputs": [
    {
     "data": {
      "image/png": "[encoded data removed]",
      "text/plain": [
       "<matplotlib.figure.Figure at 0x7f1bd5ada048>"
      ]
     },
     "metadata": {},
     "output_type": "display_data"
    }
   ],
   "source": [
    "fig = plt.figure()\n",
    "ax = fig.add_subplot(111)\n",
    "rects1 = ax.bar(np.arange(6), fan[fan.columns[9:15]].mean(), width,  color = 'blue')\n",
    "rects2 = ax.bar(np.arange(6) + width, notfan[notfan.columns[9:15]].mean(), width, color = 'red')\n",
    "cute_labels(ax)    \n",
    "\n",
    "plt.legend((rects1[0], rects2[0]), ('Fans', 'Not Fans'), loc='lower left')\n",
    "plt.show()"
   ]
  },
  {
   "cell_type": "markdown",
   "metadata": {},
   "source": [
    "Lower values of bars are better ranking episodes.  \n",
    "The 5-th movie \"Star Wars: Episode V The Empire Strikes Back\" is the most favourite for both fan and not fan groups."
   ]
  },
  {
   "cell_type": "markdown",
   "metadata": {},
   "source": [
    "## The Most Seen Movie by Fans and not Fans"
   ]
  },
  {
   "cell_type": "code",
   "execution_count": 161,
   "metadata": {
    "collapsed": false
   },
   "outputs": [
    {
     "data": {
      "image/png": "[encoded data removed]",
      "text/plain": [
       "<matplotlib.figure.Figure at 0x7f1bd59b0c50>"
      ]
     },
     "metadata": {},
     "output_type": "display_data"
    }
   ],
   "source": [
    "fig = plt.figure()\n",
    "ax = fig.add_subplot(111)\n",
    "rects1 = ax.bar(np.arange(6), fan[fan.columns[3:9]].sum(), width,  color = 'green')\n",
    "rects2 = ax.bar(np.arange(6) + width, notfan[notfan.columns[3:9]].sum(), width, color = 'orange')\n",
    "cute_labels(ax)\n",
    "plt.legend((rects1[0], rects2[0]), ('Fans', 'Not Fans'), loc='center')\n",
    "plt.show()"
   ]
  },
  {
   "cell_type": "markdown",
   "metadata": {},
   "source": [
    "Higher values of bars are most viewed episodes.  \n",
    "The 5-th movie \"Star Wars: Episode V The Empire Strikes Back\" is the most viewed by fans and not fans.  \n",
    "**Interesting thing:** Episodes I, II, III, IV are lower ranked by fan, but it had seen almost same frequent like more higher ranked Episodes V, VI"
   ]
  },
  {
   "cell_type": "markdown",
   "metadata": {},
   "source": [
    "# Star Treck Fan Segments"
   ]
  },
  {
   "cell_type": "code",
   "execution_count": 162,
   "metadata": {
    "collapsed": false
   },
   "outputs": [],
   "source": [
    "fld = \"Do you consider yourself to be a fan of the Star Trek franchise?\"\n",
    "st_fan    = star_wars[star_wars[fld] == \"Yes\"]\n",
    "st_notfan = star_wars[star_wars[fld] == \"No\"]"
   ]
  },
  {
   "cell_type": "markdown",
   "metadata": {},
   "source": [
    "## The Highest Ranked Movie by Start Treck Fans and not Fans"
   ]
  },
  {
   "cell_type": "code",
   "execution_count": 169,
   "metadata": {
    "collapsed": false
   },
   "outputs": [
    {
     "data": {
      "image/png": "[encoded data removed]",
      "text/plain": [
       "<matplotlib.figure.Figure at 0x7f1bd5b6f470>"
      ]
     },
     "metadata": {},
     "output_type": "display_data"
    }
   ],
   "source": [
    "fig = plt.figure()\n",
    "ax = fig.add_subplot(111)\n",
    "rects1 = ax.bar(np.arange(6), st_fan[st_fan.columns[9:15]].mean(), width,  color = 'cyan')\n",
    "rects2 = ax.bar(np.arange(6) + width, st_notfan[st_notfan.columns[9:15]].mean(), width, color = 'magenta')\n",
    "cute_labels(ax)    \n",
    "\n",
    "plt.legend((rects1[0], rects2[0]), ('Fans', 'Not Fans'), loc='lower left')\n",
    "plt.show()"
   ]
  },
  {
   "cell_type": "markdown",
   "metadata": {},
   "source": [
    "Lower values of bars are better ranking episodes.  \n",
    "The 5-th movie \"Star Wars: Episode V The Empire Strikes Back\" is the most favourite for both Star Treck fan and not fan groups."
   ]
  },
  {
   "cell_type": "markdown",
   "metadata": {},
   "source": [
    "## The Most Seen Movie by Start Treck Fans and not Fans"
   ]
  },
  {
   "cell_type": "code",
   "execution_count": 171,
   "metadata": {
    "collapsed": false
   },
   "outputs": [
    {
     "data": {
      "image/png": "[encoded data removed]",
      "text/plain": [
       "<matplotlib.figure.Figure at 0x7f1b6c5fc630>"
      ]
     },
     "metadata": {},
     "output_type": "display_data"
    }
   ],
   "source": [
    "fig = plt.figure()\n",
    "ax = fig.add_subplot(111)\n",
    "rects1 = ax.bar(np.arange(6), st_fan[st_fan.columns[3:9]].sum(), width,  color = 'darkgoldenrod')\n",
    "rects2 = ax.bar(np.arange(6) + width, st_notfan[st_notfan.columns[3:9]].sum(), width, color = 'purple')\n",
    "cute_labels(ax)\n",
    "plt.legend((rects1[0], rects2[0]), ('Fans', 'Not Fans'), loc='lower right')\n",
    "plt.show()"
   ]
  },
  {
   "cell_type": "markdown",
   "metadata": {},
   "source": [
    "Higher values of bars are most viewed episodes.  \n",
    "The 5-th movie \"Star Wars: Episode V The Empire Strikes Back\" is the most viewed by Star Treck fans and not fans.  \n",
    "**Interesting thing:** Episodes I, II, III, IV are lower ranked by fan, but it had seen almost same frequent like more higher ranked Episodes V, VI"
   ]
  }
 ],
 "metadata": {
  "kernelspec": {
   "display_name": "Python 3",
   "language": "python",
   "name": "python3"
  },
  "language_info": {
   "codemirror_mode": {
    "name": "ipython",
    "version": 3
   },
   "file_extension": ".py",
   "mimetype": "text/x-python",
   "name": "python",
   "nbconvert_exporter": "python",
   "pygments_lexer": "ipython3",
   "version": "3.4.3"
  }
 },
 "nbformat": 4,
 "nbformat_minor": 0
}
